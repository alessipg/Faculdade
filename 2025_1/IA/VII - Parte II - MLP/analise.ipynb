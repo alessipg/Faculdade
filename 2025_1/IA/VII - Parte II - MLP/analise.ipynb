{
 "cells": [
  {
   "cell_type": "markdown",
   "id": "92d9c68b",
   "metadata": {},
   "source": [
    "# Trabalho 7 - Parte II"
   ]
  },
  {
   "cell_type": "markdown",
   "id": "adf24c11",
   "metadata": {},
   "source": [
    "### Aluno: Gabriel Alessi Posonski"
   ]
  },
  {
   "cell_type": "markdown",
   "id": "40cc0987",
   "metadata": {},
   "source": [
    "### RA: 2259583"
   ]
  },
  {
   "cell_type": "markdown",
   "id": "e88cf0a1",
   "metadata": {},
   "source": [
    "### Instalação e importação de bibliotecas"
   ]
  },
  {
   "cell_type": "code",
   "execution_count": 1,
   "id": "7c408624",
   "metadata": {},
   "outputs": [],
   "source": [
    "#Descomentar caso precise instalar as bibliotecas\n",
    "#%pip install pandas\n",
    "#%pip install scikit-learn\n",
    "#%pip install imbalanced-learn\n",
    "\n"
   ]
  },
  {
   "cell_type": "code",
   "execution_count": 2,
   "id": "4edb38cb",
   "metadata": {},
   "outputs": [],
   "source": [
    "\n",
    "import pandas as pd\n",
    "from sklearn.preprocessing import MinMaxScaler\n",
    "from imblearn.under_sampling import RandomUnderSampler"
   ]
  },
  {
   "cell_type": "markdown",
   "id": "b26a7b99",
   "metadata": {},
   "source": [
    "#### Carregar base e remover coluna ID"
   ]
  },
  {
   "cell_type": "code",
   "execution_count": 3,
   "id": "2610df38",
   "metadata": {},
   "outputs": [
    {
     "data": {
      "application/vnd.microsoft.datawrangler.viewer.v0+json": {
       "columns": [
        {
         "name": "index",
         "rawType": "int64",
         "type": "integer"
        },
        {
         "name": "PROVA1",
         "rawType": "float64",
         "type": "float"
        },
        {
         "name": "PROVA2",
         "rawType": "float64",
         "type": "float"
        },
        {
         "name": "TRABALHO",
         "rawType": "float64",
         "type": "float"
        },
        {
         "name": "SITUAÇÃO",
         "rawType": "object",
         "type": "string"
        }
       ],
       "ref": "5a1f2ad6-2a05-419b-b71c-055e0f194522",
       "rows": [
        [
         "0",
         "2.0",
         "1.5",
         "0.5",
         "Reprovado"
        ],
        [
         "1",
         "8.0",
         "4.8",
         "8.8",
         "Aprovado"
        ],
        [
         "2",
         "3.0",
         "0.0",
         "1.8",
         "Reprovado"
        ],
        [
         "3",
         "8.0",
         "7.5",
         "2.3",
         "Aprovado"
        ],
        [
         "4",
         "2.5",
         "0.0",
         "1.2",
         "Reprovado"
        ]
       ],
       "shape": {
        "columns": 4,
        "rows": 5
       }
      },
      "text/html": [
       "<div>\n",
       "<style scoped>\n",
       "    .dataframe tbody tr th:only-of-type {\n",
       "        vertical-align: middle;\n",
       "    }\n",
       "\n",
       "    .dataframe tbody tr th {\n",
       "        vertical-align: top;\n",
       "    }\n",
       "\n",
       "    .dataframe thead th {\n",
       "        text-align: right;\n",
       "    }\n",
       "</style>\n",
       "<table border=\"1\" class=\"dataframe\">\n",
       "  <thead>\n",
       "    <tr style=\"text-align: right;\">\n",
       "      <th></th>\n",
       "      <th>PROVA1</th>\n",
       "      <th>PROVA2</th>\n",
       "      <th>TRABALHO</th>\n",
       "      <th>SITUAÇÃO</th>\n",
       "    </tr>\n",
       "  </thead>\n",
       "  <tbody>\n",
       "    <tr>\n",
       "      <th>0</th>\n",
       "      <td>2.0</td>\n",
       "      <td>1.5</td>\n",
       "      <td>0.5</td>\n",
       "      <td>Reprovado</td>\n",
       "    </tr>\n",
       "    <tr>\n",
       "      <th>1</th>\n",
       "      <td>8.0</td>\n",
       "      <td>4.8</td>\n",
       "      <td>8.8</td>\n",
       "      <td>Aprovado</td>\n",
       "    </tr>\n",
       "    <tr>\n",
       "      <th>2</th>\n",
       "      <td>3.0</td>\n",
       "      <td>0.0</td>\n",
       "      <td>1.8</td>\n",
       "      <td>Reprovado</td>\n",
       "    </tr>\n",
       "    <tr>\n",
       "      <th>3</th>\n",
       "      <td>8.0</td>\n",
       "      <td>7.5</td>\n",
       "      <td>2.3</td>\n",
       "      <td>Aprovado</td>\n",
       "    </tr>\n",
       "    <tr>\n",
       "      <th>4</th>\n",
       "      <td>2.5</td>\n",
       "      <td>0.0</td>\n",
       "      <td>1.2</td>\n",
       "      <td>Reprovado</td>\n",
       "    </tr>\n",
       "  </tbody>\n",
       "</table>\n",
       "</div>"
      ],
      "text/plain": [
       "   PROVA1  PROVA2  TRABALHO   SITUAÇÃO\n",
       "0     2.0     1.5       0.5  Reprovado\n",
       "1     8.0     4.8       8.8   Aprovado\n",
       "2     3.0     0.0       1.8  Reprovado\n",
       "3     8.0     7.5       2.3   Aprovado\n",
       "4     2.5     0.0       1.2  Reprovado"
      ]
     },
     "execution_count": 3,
     "metadata": {},
     "output_type": "execute_result"
    }
   ],
   "source": [
    "base = pd.read_excel('BaseDadosNotas.xlsx', sheet_name='Base Completa')\n",
    "base = base.drop(columns=['ID'])\n",
    "base.head()\n"
   ]
  },
  {
   "cell_type": "markdown",
   "id": "3c9cb6bc",
   "metadata": {},
   "source": [
    "#### Codificação da Coluna SITUAÇÃO"
   ]
  },
  {
   "cell_type": "code",
   "execution_count": 4,
   "id": "d4e8cc8a",
   "metadata": {},
   "outputs": [
    {
     "data": {
      "application/vnd.microsoft.datawrangler.viewer.v0+json": {
       "columns": [
        {
         "name": "index",
         "rawType": "int64",
         "type": "integer"
        },
        {
         "name": "PROVA1",
         "rawType": "float64",
         "type": "float"
        },
        {
         "name": "PROVA2",
         "rawType": "float64",
         "type": "float"
        },
        {
         "name": "TRABALHO",
         "rawType": "float64",
         "type": "float"
        },
        {
         "name": "SITUAÇÃO",
         "rawType": "int64",
         "type": "integer"
        }
       ],
       "ref": "cd3badd1-a526-4239-a8b8-53d5eb3d1092",
       "rows": [
        [
         "0",
         "2.0",
         "1.5",
         "0.5",
         "0"
        ],
        [
         "1",
         "8.0",
         "4.8",
         "8.8",
         "1"
        ],
        [
         "2",
         "3.0",
         "0.0",
         "1.8",
         "0"
        ],
        [
         "3",
         "8.0",
         "7.5",
         "2.3",
         "1"
        ],
        [
         "4",
         "2.5",
         "0.0",
         "1.2",
         "0"
        ]
       ],
       "shape": {
        "columns": 4,
        "rows": 5
       }
      },
      "text/html": [
       "<div>\n",
       "<style scoped>\n",
       "    .dataframe tbody tr th:only-of-type {\n",
       "        vertical-align: middle;\n",
       "    }\n",
       "\n",
       "    .dataframe tbody tr th {\n",
       "        vertical-align: top;\n",
       "    }\n",
       "\n",
       "    .dataframe thead th {\n",
       "        text-align: right;\n",
       "    }\n",
       "</style>\n",
       "<table border=\"1\" class=\"dataframe\">\n",
       "  <thead>\n",
       "    <tr style=\"text-align: right;\">\n",
       "      <th></th>\n",
       "      <th>PROVA1</th>\n",
       "      <th>PROVA2</th>\n",
       "      <th>TRABALHO</th>\n",
       "      <th>SITUAÇÃO</th>\n",
       "    </tr>\n",
       "  </thead>\n",
       "  <tbody>\n",
       "    <tr>\n",
       "      <th>0</th>\n",
       "      <td>2.0</td>\n",
       "      <td>1.5</td>\n",
       "      <td>0.5</td>\n",
       "      <td>0</td>\n",
       "    </tr>\n",
       "    <tr>\n",
       "      <th>1</th>\n",
       "      <td>8.0</td>\n",
       "      <td>4.8</td>\n",
       "      <td>8.8</td>\n",
       "      <td>1</td>\n",
       "    </tr>\n",
       "    <tr>\n",
       "      <th>2</th>\n",
       "      <td>3.0</td>\n",
       "      <td>0.0</td>\n",
       "      <td>1.8</td>\n",
       "      <td>0</td>\n",
       "    </tr>\n",
       "    <tr>\n",
       "      <th>3</th>\n",
       "      <td>8.0</td>\n",
       "      <td>7.5</td>\n",
       "      <td>2.3</td>\n",
       "      <td>1</td>\n",
       "    </tr>\n",
       "    <tr>\n",
       "      <th>4</th>\n",
       "      <td>2.5</td>\n",
       "      <td>0.0</td>\n",
       "      <td>1.2</td>\n",
       "      <td>0</td>\n",
       "    </tr>\n",
       "  </tbody>\n",
       "</table>\n",
       "</div>"
      ],
      "text/plain": [
       "   PROVA1  PROVA2  TRABALHO  SITUAÇÃO\n",
       "0     2.0     1.5       0.5         0\n",
       "1     8.0     4.8       8.8         1\n",
       "2     3.0     0.0       1.8         0\n",
       "3     8.0     7.5       2.3         1\n",
       "4     2.5     0.0       1.2         0"
      ]
     },
     "execution_count": 4,
     "metadata": {},
     "output_type": "execute_result"
    }
   ],
   "source": [
    "base['SITUAÇÃO'] = base['SITUAÇÃO'].map({'Reprovado': 0, 'Aprovado': 1})\n",
    "base.head()"
   ]
  },
  {
   "cell_type": "markdown",
   "id": "e2aad040",
   "metadata": {},
   "source": [
    "#### Normalização"
   ]
  },
  {
   "cell_type": "code",
   "execution_count": 5,
   "id": "a12e88d4",
   "metadata": {},
   "outputs": [
    {
     "data": {
      "application/vnd.microsoft.datawrangler.viewer.v0+json": {
       "columns": [
        {
         "name": "index",
         "rawType": "int64",
         "type": "integer"
        },
        {
         "name": "PROVA1",
         "rawType": "float64",
         "type": "float"
        },
        {
         "name": "PROVA2",
         "rawType": "float64",
         "type": "float"
        },
        {
         "name": "TRABALHO",
         "rawType": "float64",
         "type": "float"
        },
        {
         "name": "SITUAÇÃO",
         "rawType": "int64",
         "type": "integer"
        }
       ],
       "ref": "76ab991c-7007-4aab-ad3a-f6ce6bdb9ee0",
       "rows": [
        [
         "0",
         "0.2",
         "0.15000000000000002",
         "0.05",
         "0"
        ],
        [
         "1",
         "0.8",
         "0.48",
         "0.8800000000000001",
         "1"
        ],
        [
         "2",
         "0.30000000000000004",
         "0.0",
         "0.18000000000000002",
         "0"
        ],
        [
         "3",
         "0.8",
         "0.75",
         "0.22999999999999998",
         "1"
        ],
        [
         "4",
         "0.25",
         "0.0",
         "0.12",
         "0"
        ]
       ],
       "shape": {
        "columns": 4,
        "rows": 5
       }
      },
      "text/html": [
       "<div>\n",
       "<style scoped>\n",
       "    .dataframe tbody tr th:only-of-type {\n",
       "        vertical-align: middle;\n",
       "    }\n",
       "\n",
       "    .dataframe tbody tr th {\n",
       "        vertical-align: top;\n",
       "    }\n",
       "\n",
       "    .dataframe thead th {\n",
       "        text-align: right;\n",
       "    }\n",
       "</style>\n",
       "<table border=\"1\" class=\"dataframe\">\n",
       "  <thead>\n",
       "    <tr style=\"text-align: right;\">\n",
       "      <th></th>\n",
       "      <th>PROVA1</th>\n",
       "      <th>PROVA2</th>\n",
       "      <th>TRABALHO</th>\n",
       "      <th>SITUAÇÃO</th>\n",
       "    </tr>\n",
       "  </thead>\n",
       "  <tbody>\n",
       "    <tr>\n",
       "      <th>0</th>\n",
       "      <td>0.20</td>\n",
       "      <td>0.15</td>\n",
       "      <td>0.05</td>\n",
       "      <td>0</td>\n",
       "    </tr>\n",
       "    <tr>\n",
       "      <th>1</th>\n",
       "      <td>0.80</td>\n",
       "      <td>0.48</td>\n",
       "      <td>0.88</td>\n",
       "      <td>1</td>\n",
       "    </tr>\n",
       "    <tr>\n",
       "      <th>2</th>\n",
       "      <td>0.30</td>\n",
       "      <td>0.00</td>\n",
       "      <td>0.18</td>\n",
       "      <td>0</td>\n",
       "    </tr>\n",
       "    <tr>\n",
       "      <th>3</th>\n",
       "      <td>0.80</td>\n",
       "      <td>0.75</td>\n",
       "      <td>0.23</td>\n",
       "      <td>1</td>\n",
       "    </tr>\n",
       "    <tr>\n",
       "      <th>4</th>\n",
       "      <td>0.25</td>\n",
       "      <td>0.00</td>\n",
       "      <td>0.12</td>\n",
       "      <td>0</td>\n",
       "    </tr>\n",
       "  </tbody>\n",
       "</table>\n",
       "</div>"
      ],
      "text/plain": [
       "   PROVA1  PROVA2  TRABALHO  SITUAÇÃO\n",
       "0    0.20    0.15      0.05         0\n",
       "1    0.80    0.48      0.88         1\n",
       "2    0.30    0.00      0.18         0\n",
       "3    0.80    0.75      0.23         1\n",
       "4    0.25    0.00      0.12         0"
      ]
     },
     "execution_count": 5,
     "metadata": {},
     "output_type": "execute_result"
    }
   ],
   "source": [
    "# Normalização por MinMax\n",
    "scaler = MinMaxScaler()\n",
    "base[['PROVA1', 'PROVA2','TRABALHO']] = scaler.fit_transform(base[['PROVA1', 'PROVA2','TRABALHO']])\n",
    "\n",
    "base.head()"
   ]
  },
  {
   "cell_type": "markdown",
   "id": "abd6eb34",
   "metadata": {},
   "source": [
    "#### Balanceamento de classes"
   ]
  },
  {
   "cell_type": "code",
   "execution_count": 6,
   "id": "426f4449",
   "metadata": {},
   "outputs": [
    {
     "data": {
      "application/vnd.microsoft.datawrangler.viewer.v0+json": {
       "columns": [
        {
         "name": "SITUAÇÃO",
         "rawType": "int64",
         "type": "integer"
        },
        {
         "name": "proportion",
         "rawType": "float64",
         "type": "float"
        }
       ],
       "ref": "183c09a3-b772-4392-afcd-027a193c627a",
       "rows": [
        [
         "1",
         "0.6968325791855203"
        ],
        [
         "0",
         "0.3031674208144796"
        ]
       ],
       "shape": {
        "columns": 1,
        "rows": 2
       }
      },
      "text/plain": [
       "SITUAÇÃO\n",
       "1    0.696833\n",
       "0    0.303167\n",
       "Name: proportion, dtype: float64"
      ]
     },
     "execution_count": 6,
     "metadata": {},
     "output_type": "execute_result"
    }
   ],
   "source": [
    "# Verificar a distribuição das classes\n",
    "base['SITUAÇÃO'].value_counts(normalize=True)"
   ]
  },
  {
   "cell_type": "markdown",
   "id": "d51d9781",
   "metadata": {},
   "source": [
    "A proporção de aprovados é de quase 70%, aplicaremos um balanceamento"
   ]
  },
  {
   "cell_type": "code",
   "execution_count": 7,
   "id": "474629b5",
   "metadata": {},
   "outputs": [
    {
     "name": "stdout",
     "output_type": "stream",
     "text": [
      "<class 'pandas.core.frame.DataFrame'>\n",
      "Index: 134 entries, 0 to 113\n",
      "Data columns (total 4 columns):\n",
      " #   Column    Non-Null Count  Dtype  \n",
      "---  ------    --------------  -----  \n",
      " 0   PROVA1    134 non-null    float64\n",
      " 1   PROVA2    134 non-null    float64\n",
      " 2   TRABALHO  134 non-null    float64\n",
      " 3   SITUAÇÃO  134 non-null    int64  \n",
      "dtypes: float64(3), int64(1)\n",
      "memory usage: 5.2 KB\n"
     ]
    }
   ],
   "source": [
    "# balanceamento da base de dados\n",
    "rus = RandomUnderSampler(sampling_strategy='auto', random_state=42)\n",
    "X = base.drop('SITUAÇÃO', axis=1)\n",
    "y = base['SITUAÇÃO']\n",
    "X_res, y_res = rus.fit_resample(X, y)\n",
    "base_balanceada = pd.concat([pd.DataFrame(X_res, columns=X.columns), pd.DataFrame(y_res, columns=['SITUAÇÃO'])], axis=1)\n",
    "base_balanceada['SITUAÇÃO'].value_counts(normalize=True)\n",
    "base_balanceada.head()\n",
    "base_balanceada.info()\n"
   ]
  },
  {
   "cell_type": "markdown",
   "id": "a89154de",
   "metadata": {},
   "source": [
    "Com o balanceamento feito, podemos prosseguir para o treinamento"
   ]
  },
  {
   "cell_type": "markdown",
   "id": "3c52c602",
   "metadata": {},
   "source": [
    "#### Divisão estratificada e salvamento dos dados"
   ]
  },
  {
   "cell_type": "code",
   "execution_count": 8,
   "id": "fc16441d",
   "metadata": {},
   "outputs": [
    {
     "name": "stdout",
     "output_type": "stream",
     "text": [
      "Distribuição das classes no conjunto de treinamento:\n",
      "SITUAÇÃO\n",
      "1    0.505618\n",
      "0    0.494382\n",
      "Name: proportion, dtype: float64\n",
      "\n",
      "Distribuição das classes no conjunto de teste:\n",
      "SITUAÇÃO\n",
      "0    0.511111\n",
      "1    0.488889\n",
      "Name: proportion, dtype: float64\n",
      "\n",
      "Tamanho do conjunto de treinamento: 89 amostras\n",
      "Tamanho do conjunto de teste: 45 amostras\n",
      "\n",
      "Arquivos salvos:\n",
      "- treinamento.txt\n",
      "- teste.txt\n",
      "\n",
      "Verificação dos arquivos salvos:\n",
      "Colunas no arquivo: ['PROVA1', 'PROVA2', 'TRABALHO', 'SITUAÇÃO']\n",
      "Primeiras linhas:\n",
      "   PROVA1  PROVA2  TRABALHO  SITUAÇÃO\n",
      "0   0.750    0.50      0.33         0\n",
      "1   0.938    1.00      0.95         1\n",
      "2   0.938    0.90      1.00         1\n",
      "3   0.750    0.95      0.21         1\n",
      "4   0.800    1.00      0.33         1\n"
     ]
    }
   ],
   "source": [
    "from sklearn.model_selection import train_test_split\n",
    "\n",
    "# Divisão estratificada 2/3 treinamento e 1/3 teste\n",
    "X = base_balanceada.drop('SITUAÇÃO', axis=1)\n",
    "y = base_balanceada['SITUAÇÃO']\n",
    "\n",
    "# Divisão estratificada mantendo o balanceamento das classes\n",
    "X_train, X_test, y_train, y_test = train_test_split(\n",
    "    X, y, \n",
    "    test_size=1/3,  # 1/3 para teste\n",
    "    random_state=42, \n",
    "    stratify=y  # Mantém o balanceamento das classes\n",
    ")\n",
    "\n",
    "print(\"Distribuição das classes no conjunto de treinamento:\")\n",
    "print(y_train.value_counts(normalize=True))\n",
    "print(\"\\nDistribuição das classes no conjunto de teste:\")\n",
    "print(y_test.value_counts(normalize=True))\n",
    "\n",
    "# Criar DataFrames completos para salvar\n",
    "dados_treinamento = pd.concat([X_train, y_train], axis=1)\n",
    "dados_teste = pd.concat([X_test, y_test], axis=1)\n",
    "\n",
    "# Salvar os arquivos com header correto para txt\n",
    "dados_treinamento.to_csv('treinamento.txt', index=False, sep='\\t', header=True)\n",
    "dados_teste.to_csv('teste.txt', index=False, sep='\\t', header=True)\n",
    "\n",
    "print(f\"\\nTamanho do conjunto de treinamento: {len(dados_treinamento)} amostras\")\n",
    "print(f\"Tamanho do conjunto de teste: {len(dados_teste)} amostras\")\n",
    "print(\"\\nArquivos salvos:\")\n",
    "print(\"- treinamento.txt\")\n",
    "print(\"- teste.txt\")\n",
    "\n",
    "# Verificar se os arquivos foram salvos corretamente\n",
    "print(\"\\nVerificação dos arquivos salvos:\")\n",
    "test_load = pd.read_csv('treinamento.txt', sep='\\t')\n",
    "print(\"Colunas no arquivo:\", test_load.columns.tolist())\n",
    "print(\"Primeiras linhas:\")\n",
    "print(test_load.head())"
   ]
  },
  {
   "cell_type": "markdown",
   "id": "a8993cd4",
   "metadata": {},
   "source": [
    "### Treinamento com Múltiplas Configurações de Rede"
   ]
  },
  {
   "cell_type": "code",
   "execution_count": 9,
   "id": "e5cf78ab",
   "metadata": {},
   "outputs": [
    {
     "name": "stdout",
     "output_type": "stream",
     "text": [
      "=== TREINAMENTO COM MÚLTIPLAS CONFIGURAÇÕES ===\n",
      "\n",
      "--- Configuração 1: (5,) ---\n",
      "  Épocas: 30\n",
      "    Treino: 0.5955 | Teste: 0.5111 | Convergiu: False\n",
      "  Épocas: 50\n",
      "    Treino: 0.7640 | Teste: 0.7333 | Convergiu: False\n",
      "  Épocas: 100\n",
      "    Treino: 0.8539 | Teste: 0.8000 | Convergiu: False\n",
      "\n",
      "--- Configuração 2: (10,) ---\n",
      "  Épocas: 30\n",
      "    Treino: 0.7865 | Teste: 0.7333 | Convergiu: False\n",
      "  Épocas: 50\n",
      "    Treino: 0.9101 | Teste: 0.9111 | Convergiu: False\n",
      "  Épocas: 100\n",
      "    Treino: 0.9775 | Teste: 0.9556 | Convergiu: False\n",
      "\n",
      "--- Configuração 3: (5, 3) ---\n",
      "  Épocas: 30\n",
      "    Treino: 0.5056 | Teste: 0.4889 | Convergiu: False\n",
      "  Épocas: 50\n",
      "    Treino: 0.5056 | Teste: 0.4889 | Convergiu: True\n",
      "  Épocas: 100\n",
      "    Treino: 0.5056 | Teste: 0.4889 | Convergiu: True\n",
      "\n",
      "--- Configuração 4: (10, 5) ---\n",
      "  Épocas: 30\n",
      "    Treino: 0.5056 | Teste: 0.4889 | Convergiu: True\n",
      "\n",
      "--- Configuração 4: (10, 5) ---\n",
      "  Épocas: 30\n",
      "    Treino: 0.8652 | Teste: 0.8667 | Convergiu: False\n",
      "  Épocas: 50\n",
      "    Treino: 0.9101 | Teste: 0.8889 | Convergiu: False\n",
      "  Épocas: 100\n",
      "    Treino: 0.8652 | Teste: 0.8667 | Convergiu: False\n",
      "  Épocas: 50\n",
      "    Treino: 0.9101 | Teste: 0.8889 | Convergiu: False\n",
      "  Épocas: 100\n"
     ]
    },
    {
     "name": "stderr",
     "output_type": "stream",
     "text": [
      "c:\\Users\\Gabriel\\AppData\\Local\\Programs\\Python\\Python313\\Lib\\site-packages\\sklearn\\neural_network\\_multilayer_perceptron.py:691: ConvergenceWarning: Stochastic Optimizer: Maximum iterations (30) reached and the optimization hasn't converged yet.\n",
      "  warnings.warn(\n",
      "c:\\Users\\Gabriel\\AppData\\Local\\Programs\\Python\\Python313\\Lib\\site-packages\\sklearn\\neural_network\\_multilayer_perceptron.py:691: ConvergenceWarning: Stochastic Optimizer: Maximum iterations (50) reached and the optimization hasn't converged yet.\n",
      "  warnings.warn(\n",
      "c:\\Users\\Gabriel\\AppData\\Local\\Programs\\Python\\Python313\\Lib\\site-packages\\sklearn\\neural_network\\_multilayer_perceptron.py:691: ConvergenceWarning: Stochastic Optimizer: Maximum iterations (100) reached and the optimization hasn't converged yet.\n",
      "  warnings.warn(\n",
      "c:\\Users\\Gabriel\\AppData\\Local\\Programs\\Python\\Python313\\Lib\\site-packages\\sklearn\\neural_network\\_multilayer_perceptron.py:691: ConvergenceWarning: Stochastic Optimizer: Maximum iterations (30) reached and the optimization hasn't converged yet.\n",
      "  warnings.warn(\n",
      "c:\\Users\\Gabriel\\AppData\\Local\\Programs\\Python\\Python313\\Lib\\site-packages\\sklearn\\neural_network\\_multilayer_perceptron.py:691: ConvergenceWarning: Stochastic Optimizer: Maximum iterations (50) reached and the optimization hasn't converged yet.\n",
      "  warnings.warn(\n",
      "c:\\Users\\Gabriel\\AppData\\Local\\Programs\\Python\\Python313\\Lib\\site-packages\\sklearn\\neural_network\\_multilayer_perceptron.py:691: ConvergenceWarning: Stochastic Optimizer: Maximum iterations (100) reached and the optimization hasn't converged yet.\n",
      "  warnings.warn(\n",
      "c:\\Users\\Gabriel\\AppData\\Local\\Programs\\Python\\Python313\\Lib\\site-packages\\sklearn\\neural_network\\_multilayer_perceptron.py:691: ConvergenceWarning: Stochastic Optimizer: Maximum iterations (30) reached and the optimization hasn't converged yet.\n",
      "  warnings.warn(\n",
      "c:\\Users\\Gabriel\\AppData\\Local\\Programs\\Python\\Python313\\Lib\\site-packages\\sklearn\\neural_network\\_multilayer_perceptron.py:691: ConvergenceWarning: Stochastic Optimizer: Maximum iterations (30) reached and the optimization hasn't converged yet.\n",
      "  warnings.warn(\n",
      "c:\\Users\\Gabriel\\AppData\\Local\\Programs\\Python\\Python313\\Lib\\site-packages\\sklearn\\neural_network\\_multilayer_perceptron.py:691: ConvergenceWarning: Stochastic Optimizer: Maximum iterations (50) reached and the optimization hasn't converged yet.\n",
      "  warnings.warn(\n"
     ]
    },
    {
     "name": "stdout",
     "output_type": "stream",
     "text": [
      "    Treino: 0.9888 | Teste: 0.9556 | Convergiu: False\n",
      "\n",
      "=== RESUMO DOS RESULTADOS ===\n",
      "  Configuração Camadas  Épocas  Acurácia Treino  Acurácia Teste  Convergiu\n",
      "Configuração 1    (5,)      30         0.595506        0.511111      False\n",
      "Configuração 1    (5,)      50         0.764045        0.733333      False\n",
      "Configuração 1    (5,)     100         0.853933        0.800000      False\n",
      "Configuração 2   (10,)      30         0.786517        0.733333      False\n",
      "Configuração 2   (10,)      50         0.910112        0.911111      False\n",
      "Configuração 2   (10,)     100         0.977528        0.955556      False\n",
      "Configuração 3  (5, 3)      30         0.505618        0.488889      False\n",
      "Configuração 3  (5, 3)      50         0.505618        0.488889       True\n",
      "Configuração 3  (5, 3)     100         0.505618        0.488889       True\n",
      "Configuração 4 (10, 5)      30         0.865169        0.866667      False\n",
      "Configuração 4 (10, 5)      50         0.910112        0.888889      False\n",
      "Configuração 4 (10, 5)     100         0.988764        0.955556      False\n"
     ]
    },
    {
     "name": "stderr",
     "output_type": "stream",
     "text": [
      "c:\\Users\\Gabriel\\AppData\\Local\\Programs\\Python\\Python313\\Lib\\site-packages\\sklearn\\neural_network\\_multilayer_perceptron.py:691: ConvergenceWarning: Stochastic Optimizer: Maximum iterations (100) reached and the optimization hasn't converged yet.\n",
      "  warnings.warn(\n"
     ]
    }
   ],
   "source": [
    "from sklearn.neural_network import MLPClassifier\n",
    "from sklearn.metrics import accuracy_score, classification_report, confusion_matrix\n",
    "import numpy as np\n",
    "import pandas as pd\n",
    "\n",
    "# Recarregar os dados divididos\n",
    "dados_treinamento = pd.read_csv('treinamento.txt', sep='\\t')\n",
    "dados_teste = pd.read_csv('teste.txt', sep='\\t')\n",
    "\n",
    "X_train = dados_treinamento.drop('SITUAÇÃO', axis=1)\n",
    "y_train = dados_treinamento['SITUAÇÃO']\n",
    "X_test = dados_teste.drop('SITUAÇÃO', axis=1)\n",
    "y_test = dados_teste['SITUAÇÃO']\n",
    "\n",
    "# Configurações de rede a serem testadas\n",
    "configuracoes = {\n",
    "    'Configuração 1': (5,),      # 1 camada oculta com 5 neurônios\n",
    "    'Configuração 2': (10,),     # 1 camada oculta com 10 neurônios\n",
    "    'Configuração 3': (5, 3),    # 2 camadas ocultas (5 e 3 neurônios)\n",
    "    'Configuração 4': (10, 5),   # 2 camadas ocultas (10 e 5 neurônios)\n",
    "}\n",
    "\n",
    "# Épocas a serem testadas\n",
    "epocas = [30, 50, 100]\n",
    "\n",
    "# Armazenar resultados\n",
    "resultados = []\n",
    "\n",
    "print(\"=== TREINAMENTO COM MÚLTIPLAS CONFIGURAÇÕES ===\\n\")\n",
    "\n",
    "for nome_config, camadas in configuracoes.items():\n",
    "    print(f\"--- {nome_config}: {camadas} ---\")\n",
    "    \n",
    "    for epoca in epocas:\n",
    "        print(f\"  Épocas: {epoca}\")\n",
    "        \n",
    "        # Criar e treinar o modelo\n",
    "        mlp = MLPClassifier(\n",
    "            hidden_layer_sizes=camadas,\n",
    "            max_iter=epoca,\n",
    "            random_state=42,\n",
    "            solver='adam',\n",
    "            learning_rate_init=0.01\n",
    "        )\n",
    "        \n",
    "        # Treinar o modelo\n",
    "        mlp.fit(X_train, y_train)\n",
    "        \n",
    "        # Fazer predições\n",
    "        y_pred_train = mlp.predict(X_train)\n",
    "        y_pred_test = mlp.predict(X_test)\n",
    "        \n",
    "        # Calcular acurácias\n",
    "        acc_train = accuracy_score(y_train, y_pred_train)\n",
    "        acc_test = accuracy_score(y_test, y_pred_test)\n",
    "        \n",
    "        # Armazenar resultados\n",
    "        resultado = {\n",
    "            'Configuração': nome_config,\n",
    "            'Camadas': str(camadas),\n",
    "            'Épocas': epoca,\n",
    "            'Acurácia Treino': acc_train,\n",
    "            'Acurácia Teste': acc_test,\n",
    "            'Convergiu': mlp.n_iter_ < epoca\n",
    "        }\n",
    "        resultados.append(resultado)\n",
    "        \n",
    "        print(f\"    Treino: {acc_train:.4f} | Teste: {acc_test:.4f} | Convergiu: {mlp.n_iter_ < epoca}\")\n",
    "    \n",
    "    print()\n",
    "\n",
    "# Converter resultados para DataFrame para melhor visualização\n",
    "df_resultados = pd.DataFrame(resultados)\n",
    "print(\"=== RESUMO DOS RESULTADOS ===\")\n",
    "print(df_resultados.to_string(index=False))"
   ]
  },
  {
   "cell_type": "markdown",
   "id": "6ce1b60f",
   "metadata": {},
   "source": [
    "#### Análise da Melhor Configuração"
   ]
  },
  {
   "cell_type": "code",
   "execution_count": 10,
   "id": "97925366",
   "metadata": {},
   "outputs": [
    {
     "name": "stdout",
     "output_type": "stream",
     "text": [
      "=== MELHOR CONFIGURAÇÃO ===\n",
      "Configuração: Configuração 2\n",
      "Camadas: (10,)\n",
      "Épocas: 100\n",
      "Acurácia de Teste: 0.9556\n",
      "Acurácia de Treino: 0.9775\n",
      "\n",
      "=== MATRIZ DE CONFUSÃO (MELHOR MODELO) ===\n",
      "[[21  2]\n",
      " [ 0 22]]\n",
      "\n",
      "=== RELATÓRIO DE CLASSIFICAÇÃO ===\n",
      "              precision    recall  f1-score   support\n",
      "\n",
      "   Reprovado       1.00      0.91      0.95        23\n",
      "    Aprovado       0.92      1.00      0.96        22\n",
      "\n",
      "    accuracy                           0.96        45\n",
      "   macro avg       0.96      0.96      0.96        45\n",
      "weighted avg       0.96      0.96      0.96        45\n",
      "\n",
      "\n",
      "=== IMPORTÂNCIA DAS VARIÁVEIS (Total = 10.0) ===\n",
      "prova 1: peso 3.12\n",
      "prova 2: peso 3.98\n",
      "trabalho: peso 2.9\n",
      "Total: 10.0\n",
      "\n",
      "=== VALORES BRUTOS DE IMPORTÂNCIA ===\n",
      "PROVA 1: 0.527825\n",
      "PROVA 2: 0.672143\n",
      "TRABALHO: 0.489190\n",
      "Soma: 1.689158\n",
      "\n",
      "Variável mais importante: prova 2\n"
     ]
    },
    {
     "name": "stderr",
     "output_type": "stream",
     "text": [
      "c:\\Users\\Gabriel\\AppData\\Local\\Programs\\Python\\Python313\\Lib\\site-packages\\sklearn\\neural_network\\_multilayer_perceptron.py:691: ConvergenceWarning: Stochastic Optimizer: Maximum iterations (100) reached and the optimization hasn't converged yet.\n",
      "  warnings.warn(\n"
     ]
    }
   ],
   "source": [
    "# Encontrar a melhor configuração baseada na acurácia de teste\n",
    "melhor_resultado = df_resultados.loc[df_resultados['Acurácia Teste'].idxmax()]\n",
    "\n",
    "print(\"=== MELHOR CONFIGURAÇÃO ===\")\n",
    "print(f\"Configuração: {melhor_resultado['Configuração']}\")\n",
    "print(f\"Camadas: {melhor_resultado['Camadas']}\")\n",
    "print(f\"Épocas: {melhor_resultado['Épocas']}\")\n",
    "print(f\"Acurácia de Teste: {melhor_resultado['Acurácia Teste']:.4f}\")\n",
    "print(f\"Acurácia de Treino: {melhor_resultado['Acurácia Treino']:.4f}\")\n",
    "print()\n",
    "\n",
    "# Treinar novamente a melhor configuração para análise detalhada\n",
    "melhor_config = eval(melhor_resultado['Camadas'])\n",
    "melhor_epocas = melhor_resultado['Épocas']\n",
    "\n",
    "mlp_melhor = MLPClassifier(\n",
    "    hidden_layer_sizes=melhor_config,\n",
    "    max_iter=melhor_epocas,\n",
    "    random_state=42,\n",
    "    solver='adam',\n",
    "    learning_rate_init=0.01\n",
    ")\n",
    "\n",
    "mlp_melhor.fit(X_train, y_train)\n",
    "y_pred_melhor = mlp_melhor.predict(X_test)\n",
    "\n",
    "# Matriz de confusão\n",
    "print(\"=== MATRIZ DE CONFUSÃO (MELHOR MODELO) ===\")\n",
    "conf_matrix = confusion_matrix(y_test, y_pred_melhor)\n",
    "print(conf_matrix)\n",
    "print()\n",
    "\n",
    "# Relatório de classificação\n",
    "print(\"=== RELATÓRIO DE CLASSIFICAÇÃO ===\")\n",
    "print(classification_report(y_test, y_pred_melhor, target_names=['Reprovado', 'Aprovado']))\n",
    "\n",
    "# Calcular importância das variáveis para o melhor modelo\n",
    "weights_input_hidden = mlp_melhor.coefs_[0]\n",
    "\n",
    "# Calcular a importância absoluta média de cada variável\n",
    "importancia_prova1 = np.mean(np.abs(weights_input_hidden[0, :]))\n",
    "importancia_prova2 = np.mean(np.abs(weights_input_hidden[1, :]))\n",
    "importancia_trabalho = np.mean(np.abs(weights_input_hidden[2, :]))\n",
    "\n",
    "# Calcular pesos proporcionais que somem 10 (permitindo decimais)\n",
    "soma_importancias = importancia_prova1 + importancia_prova2 + importancia_trabalho\n",
    "\n",
    "# Distribuir os 10 pontos proporcionalmente com precisão decimal\n",
    "peso_prova1 = round((importancia_prova1 / soma_importancias) * 10, 2)\n",
    "peso_prova2 = round((importancia_prova2 / soma_importancias) * 10, 2)\n",
    "peso_trabalho = round((importancia_trabalho / soma_importancias) * 10, 2)\n",
    "\n",
    "# Verificar e ajustar para garantir que a soma seja exatamente 10.00\n",
    "soma_atual = peso_prova1 + peso_prova2 + peso_trabalho\n",
    "diferenca = round(10.0 - soma_atual, 2)\n",
    "\n",
    "# Se houver diferença de arredondamento, ajustar a variável com maior importância\n",
    "if diferenca != 0:\n",
    "    importancias_list = [importancia_prova1, importancia_prova2, importancia_trabalho]\n",
    "    indice_maior = importancias_list.index(max(importancias_list))\n",
    "    \n",
    "    if indice_maior == 0:\n",
    "        peso_prova1 = round(peso_prova1 + diferenca, 2)\n",
    "    elif indice_maior == 1:\n",
    "        peso_prova2 = round(peso_prova2 + diferenca, 2)\n",
    "    else:\n",
    "        peso_trabalho = round(peso_trabalho + diferenca, 2)\n",
    "\n",
    "print(\"\\n=== IMPORTÂNCIA DAS VARIÁVEIS (Total = 10.0) ===\")\n",
    "print(f\"prova 1: peso {peso_prova1}\")\n",
    "print(f\"prova 2: peso {peso_prova2}\")\n",
    "print(f\"trabalho: peso {peso_trabalho}\")\n",
    "print(f\"Total: {peso_prova1 + peso_prova2 + peso_trabalho}\")\n",
    "\n",
    "# Mostrar também os valores brutos para referência\n",
    "print(f\"\\n=== VALORES BRUTOS DE IMPORTÂNCIA ===\")\n",
    "print(f\"PROVA 1: {importancia_prova1:.6f}\")\n",
    "print(f\"PROVA 2: {importancia_prova2:.6f}\")\n",
    "print(f\"TRABALHO: {importancia_trabalho:.6f}\")\n",
    "print(f\"Soma: {soma_importancias:.6f}\")\n",
    "\n",
    "# Análise adicional\n",
    "pesos = [peso_prova1, peso_prova2, peso_trabalho]\n",
    "variaveis = ['prova 1', 'prova 2', 'trabalho']\n",
    "mais_importante = variaveis[pesos.index(max(pesos))]\n",
    "\n",
    "print(f\"\\nVariável mais importante: {mais_importante}\")"
   ]
  }
 ],
 "metadata": {
  "kernelspec": {
   "display_name": "Python 3",
   "language": "python",
   "name": "python3"
  },
  "language_info": {
   "codemirror_mode": {
    "name": "ipython",
    "version": 3
   },
   "file_extension": ".py",
   "mimetype": "text/x-python",
   "name": "python",
   "nbconvert_exporter": "python",
   "pygments_lexer": "ipython3",
   "version": "3.13.5"
  }
 },
 "nbformat": 4,
 "nbformat_minor": 5
}
